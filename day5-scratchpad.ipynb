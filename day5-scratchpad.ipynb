{
 "cells": [
  {
   "cell_type": "code",
   "execution_count": 61,
   "metadata": {},
   "outputs": [],
   "source": [
    "import matplotlib.pyplot as plt\n",
    "import matplotlib.collections as mc\n",
    "import numpy as np\n"
   ]
  },
  {
   "cell_type": "code",
   "execution_count": 62,
   "metadata": {},
   "outputs": [],
   "source": [
    "import re\n",
    "\n",
    "def parse(txt):\n",
    "    matches = re.search(r\"(\\d+),(\\d+) -> (\\d+),(\\d+)\", txt)\n",
    "    x1 = int(matches.group(1))\n",
    "    y1 = int(matches.group(2))\n",
    "    x2 = int(matches.group(3))\n",
    "    y2 = int(matches.group(4))\n",
    "    return x1, y1, x2, y2\n",
    "\n",
    "def cells(xMax, yMax):\n",
    "    for y in range(0, yMax+1):\n",
    "        for x in range(0,xMax+1):\n",
    "            yield (x, y)\n",
    "\n",
    "def is_v_line(line):\n",
    "    x1, _, x2, _ = line\n",
    "    return x1 == x2\n",
    "\n",
    "def is_h_line(line):\n",
    "    _, y1, _, y2 = line\n",
    "    return y1 == y2\n",
    "\n",
    "def intersect(line, cell):\n",
    "    x1, y1, x2, y2 = line\n",
    "    px, py = cell\n",
    "    if is_v_line(line):\n",
    "        return (x1 <= px <= x2) or (x2 <= px <= x1)\n",
    "    elif is_h_line(line):\n",
    "        return (y1 <= py <= y2) or (y2 <= py <= y1)\n",
    "    else:\n",
    "        return False\n",
    "    \n",
    "input = None\n",
    "filename = \"day5-sample.txt\" \n",
    "with open(filename) as reader:\n",
    "    input = reader.readlines()\n",
    "\n",
    "xMax = 0\n",
    "yMax = 0\n",
    "lines = []\n",
    "for txt in input:\n",
    "    line = parse(txt)\n",
    "    lines.append(line)\n",
    "    \n",
    "    if line[0] > xMax:\n",
    "        xMax = line[0]\n",
    "    if line[2] > xMax:\n",
    "        xMax = line[2]\n",
    "    if line[1] > yMax:\n",
    "        yMax = line[1]\n",
    "    if line[3] > yMax:\n",
    "        yMax = line[3]"
   ]
  },
  {
   "cell_type": "code",
   "execution_count": 82,
   "metadata": {},
   "outputs": [
    {
     "name": "stdout",
     "output_type": "stream",
     "text": [
      "20\n"
     ]
    },
    {
     "data": {
      "image/png": "[encoded data removed]",
      "text/plain": [
       "<Figure size 432x288 with 1 Axes>"
      ]
     },
     "metadata": {
      "needs_background": "light"
     },
     "output_type": "display_data"
    }
   ],
   "source": [
    "fig, ax = plt.subplots()\n",
    "virids_colors=plt.cm.get_cmap(plt.cm.viridis).colors\n",
    "my_colors = list(map(lambda c: (c[0], c[1], c[2], 0.5), virids_colors))[::20]\n",
    "\n",
    "lc = mc.LineCollection(map(lambda line: [(line[0], line[1]), (line[2], line[3])], lines), colors=my_colors, linewidths=3)\n",
    "ax.add_collection(lc)\n",
    "ax.autoscale()\n",
    "ax.set_ylim(10, 0)\n",
    "for i in range(0,len(lines)):\n",
    "    l = lines[i]  \n",
    "    ax.text(l[0], l[1], f\"{l[0]},{l[1]} -> {l[2]},{l[3]}\", color=[*my_colors[i][:3], 0.8])\n",
    "\n",
    "def plot_point(cell):\n",
    "    ax.plot(cell[0], cell[1], 'go')\n",
    "\n",
    "totalOverlaps = 0\n",
    "for cell in cells(xMax, yMax):\n",
    "    cellOverlaps = 0\n",
    "    for line in lines:\n",
    "        if intersect(line, cell):\n",
    "            cellOverlaps += 1\n",
    "            # print(cell, line, cellOverlaps, totalOverlaps)\n",
    "            plot_point(cell)\n",
    "    if cellOverlaps >= 2:\n",
    "        totalOverlaps += 1\n",
    "        \n",
    "\n",
    "print(totalOverlaps)"
   ]
  }
 ],
 "metadata": {
  "interpreter": {
   "hash": "2be5faf79681da6f2a61fdfdd5405d65d042280f7fba6178067603e3a2925119"
  },
  "kernelspec": {
   "display_name": "Python 3.10.0 64-bit",
   "language": "python",
   "name": "python3"
  },
  "language_info": {
   "codemirror_mode": {
    "name": "ipython",
    "version": 3
   },
   "file_extension": ".py",
   "mimetype": "text/x-python",
   "name": "python",
   "nbconvert_exporter": "python",
   "pygments_lexer": "ipython3",
   "version": "3.9.5"
  },
  "orig_nbformat": 4
 },
 "nbformat": 4,
 "nbformat_minor": 2
}
